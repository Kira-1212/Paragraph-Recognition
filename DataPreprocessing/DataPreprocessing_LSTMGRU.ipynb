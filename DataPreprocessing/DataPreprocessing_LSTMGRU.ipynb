{
  "nbformat": 4,
  "nbformat_minor": 0,
  "metadata": {
    "colab": {
      "name": "DataPreprocessing_LSTMGRU.ipynb",
      "provenance": [],
      "collapsed_sections": []
    },
    "kernelspec": {
      "name": "python3",
      "display_name": "Python 3"
    },
    "language_info": {
      "name": "python"
    }
  },
  "cells": [
    {
      "cell_type": "code",
      "execution_count": 6,
      "metadata": {
        "id": "k36ZUsFjek7w"
      },
      "outputs": [],
      "source": [
        "# importing required modules\n",
        "import pandas as pd\n",
        "import json\n",
        "import numpy as np\n",
        "import uuid"
      ]
    },
    {
      "cell_type": "code",
      "source": [
        "# connecting to the google drive to get the file for input\n",
        "from google.colab import drive\n",
        "drive.mount('/content/drive')"
      ],
      "metadata": {
        "colab": {
          "base_uri": "https://localhost:8080/"
        },
        "id": "aV-jxG6s9E_p",
        "outputId": "738fef4b-d9eb-4f42-dbc0-e0cf1a632866"
      },
      "execution_count": 4,
      "outputs": [
        {
          "output_type": "stream",
          "name": "stdout",
          "text": [
            "Drive already mounted at /content/drive; to attempt to forcibly remount, call drive.mount(\"/content/drive\", force_remount=True).\n"
          ]
        }
      ]
    },
    {
      "cell_type": "code",
      "source": [
        "# getting the data from val.json\n",
        "with open('/content/drive/MyDrive/publaynet/val.json', 'r') as fp:\n",
        "        images = json.load(fp)\n",
        "\n",
        "#defining the columns for csv\n",
        "ids = []\n",
        "xmin =[]\n",
        "ymin = []\n",
        "xmax = []\n",
        "ymax = []\n",
        "object_id = []\n",
        "category = []\n",
        "\n",
        "#iterating over annotations and adding them to the data frame\n",
        "for i in range(len(images['annotations'])):\n",
        "    ids.append(images['annotations'][i]['image_id'])\n",
        "    xmin.append(images['annotations'][i]['bbox'][0])\n",
        "    ymin.append(images['annotations'][i]['bbox'][1])\n",
        "    xmax.append(images['annotations'][i]['bbox'][0] + images['annotations'][i]['bbox'][2])\n",
        "    ymax.append(images['annotations'][i]['bbox'][1] + images['annotations'][i]['bbox'][3])\n",
        "    object_id.append(uuid.uuid4())\n",
        "    category.append(images['annotations'][i]['category_id'])\n",
        "\n",
        "df = pd.DataFrame()\n",
        "df['id'] = ids\n",
        "df['xmin'] = xmin\n",
        "df['ymin'] = ymin\n",
        "df['xmax'] = xmax\n",
        "df['ymax'] = ymax\n",
        "df[\"Object\"] = object_id\n",
        "df['category'] = category\n",
        "\n",
        "#saving to the csv\n",
        "df.to_csv('/content/drive/MyDrive/publaynet/data.csv', index=False)"
      ],
      "metadata": {
        "colab": {
          "base_uri": "https://localhost:8080/"
        },
        "id": "9uElW_MkuZOs",
        "outputId": "1beaef21-f09f-4634-8aa4-bec37444ee0b"
      },
      "execution_count": 7,
      "outputs": [
        {
          "output_type": "stream",
          "name": "stdout",
          "text": [
            "120761\n",
            "       id    xmin    ymin    xmax    ymax  \\\n",
            "0  341427   50.58  490.86  290.73  743.02   \n",
            "1  341427  308.61  490.87  548.80  743.03   \n",
            "2  341427  149.68   70.61  449.55   82.71   \n",
            "3  341427   50.58  395.30  548.71  417.85   \n",
            "4  341427   50.58   89.60  548.72  372.58   \n",
            "5  341427   50.58  423.72  548.72  463.14   \n",
            "6  341435   50.73   72.78  290.95  117.46   \n",
            "7  341435   50.73  118.25  290.94  162.94   \n",
            "8  341435   50.73  163.73  290.92  197.04   \n",
            "9  341435   50.73  197.83  290.94  310.72   \n",
            "\n",
            "                                 Object  category  \n",
            "0  3d6365e8-f805-4d49-bbb7-20a4817e3a88         1  \n",
            "1  bc4951f9-acd3-4720-b316-2073a3d9c0a9         1  \n",
            "2  5b780cdd-f897-4603-ad59-1e8074effbf1         1  \n",
            "3  980093d6-1119-42d2-bedc-5c8a8244bf99         1  \n",
            "4  a1da2ff7-95ff-4307-9f15-73aa21b5440a         4  \n",
            "5  2588cd9a-4874-4f74-a1e2-193b3cbfa155         4  \n",
            "6  2fc54739-8707-4a18-83a0-2d4d75da26aa         1  \n",
            "7  7baf3ca4-bc0b-4d0e-b150-23a613ecc9d7         1  \n",
            "8  2c8e51ba-917e-4a7a-84f4-15547f8c6a95         1  \n",
            "9  b4d7a554-4bdc-4875-953f-610718b19679         1  \n"
          ]
        }
      ]
    }
  ]
}